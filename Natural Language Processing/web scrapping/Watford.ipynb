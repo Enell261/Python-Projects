{
 "cells": [
  {
   "cell_type": "code",
   "execution_count": 28,
   "metadata": {},
   "outputs": [],
   "source": [
    "#import the necessary packages\n",
    "\n",
    "import urllib.request\n",
    "from bs4 import BeautifulSoup as bs"
   ]
  },
  {
   "cell_type": "code",
   "execution_count": 78,
   "metadata": {},
   "outputs": [],
   "source": [
    "# Load Arsenal's Wikipedia page\n",
    "response = urllib.request.urlopen('https://en.wikipedia.org/wiki/West_Ham_United_F.C.')\n",
    "\n",
    "#read the html of the page\n",
    "html = response.read()\n",
    "\n",
    "# Convert into a Beautiful Soup object\n",
    "soup = bs(html)\n"
   ]
  },
  {
   "cell_type": "code",
   "execution_count": 79,
   "metadata": {},
   "outputs": [
    {
     "name": "stdout",
     "output_type": "stream",
     "text": [
      "West Ham United F.C.\n"
     ]
    }
   ],
   "source": [
    "## Grab the header(team name)\n",
    "team_name = soup.find('h1').text\n",
    "print(team_name)"
   ]
  },
  {
   "cell_type": "code",
   "execution_count": 80,
   "metadata": {},
   "outputs": [],
   "source": [
    "## Grab the info box\n",
    "info_box = soup.find('tbody')\n"
   ]
  },
  {
   "cell_type": "code",
   "execution_count": 81,
   "metadata": {},
   "outputs": [],
   "source": [
    "col1 = info_box.find_all('th')"
   ]
  },
  {
   "cell_type": "code",
   "execution_count": 82,
   "metadata": {},
   "outputs": [
    {
     "data": {
      "text/plain": [
       "12"
      ]
     },
     "execution_count": 82,
     "metadata": {},
     "output_type": "execute_result"
    }
   ],
   "source": [
    "len(col1)"
   ]
  },
  {
   "cell_type": "code",
   "execution_count": 83,
   "metadata": {},
   "outputs": [
    {
     "name": "stdout",
     "output_type": "stream",
     "text": [
      "['Nickname(s)', 'Short name', 'Founded', 'Ground']\n"
     ]
    }
   ],
   "source": [
    "attributes = []\n",
    "for i in range(1,len(col1)-7):\n",
    "    attribute = col1[i].text\n",
    "    attributes.append(attribute)\n",
    "    \n",
    "    \n",
    "print(attributes)"
   ]
  },
  {
   "cell_type": "code",
   "execution_count": 84,
   "metadata": {},
   "outputs": [
    {
     "name": "stdout",
     "output_type": "stream",
     "text": [
      "['West Ham United Football Club', 'The IronsThe HammersThe Academy of Football', 'West Ham', '29\\xa0June 1895; 125\\xa0years ago\\xa0(1895-06-29), as Thames Ironworks5\\xa0July 1900; 120\\xa0years ago\\xa0(1900-07-05), as West Ham United', 'London Stadium', '60,000[1]', \"David Sullivan (51.1%) David Gold (35.1%)Albert 'Tripp' Smith (10%)[2]Other investors (3.8%)[3]\", 'David Sullivan and David Gold', 'David Moyes', 'Premier League', 'Premier League, 16th of 20', 'Club website']\n"
     ]
    }
   ],
   "source": [
    "col2 = info_box.find_all('td')\n",
    "\n",
    "values = []\n",
    "for i in range(1,len(col2)-7):\n",
    "    value = col2[i].text\n",
    "    values.append(value)\n",
    "    \n",
    "print(values)"
   ]
  },
  {
   "cell_type": "code",
   "execution_count": 27,
   "metadata": {},
   "outputs": [
    {
     "name": "stdout",
     "output_type": "stream",
     "text": [
      "               Full name         Ground   Capacity       Owner        Manager  \\\n",
      "0  Watford Football Club  Vicarage Road  22,200[1]  Gino Pozzo  Vladimir Ivić   \n",
      "\n",
      "         League                                 2019–20  \n",
      "0  Championship  Premier League, 19th of 20 (relegated)  \n"
     ]
    }
   ],
   "source": [
    "import pandas as pd\n",
    "import numpy as np\n",
    "\n",
    "d = dictionary = dict(zip(attributes, values))\n",
    "df = pd.DataFrame(columns = attributes)\n",
    "for i in range(0,len(values)):\n",
    "    df.loc[0]=values\n",
    "print(df)"
   ]
  },
  {
   "cell_type": "code",
   "execution_count": null,
   "metadata": {},
   "outputs": [],
   "source": []
  }
 ],
 "metadata": {
  "kernelspec": {
   "display_name": "Python 3",
   "language": "python",
   "name": "python3"
  },
  "language_info": {
   "codemirror_mode": {
    "name": "ipython",
    "version": 3
   },
   "file_extension": ".py",
   "mimetype": "text/x-python",
   "name": "python",
   "nbconvert_exporter": "python",
   "pygments_lexer": "ipython3",
   "version": "3.7.4"
  }
 },
 "nbformat": 4,
 "nbformat_minor": 2
}
