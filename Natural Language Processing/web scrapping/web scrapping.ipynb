{
 "cells": [
  {
   "cell_type": "markdown",
   "metadata": {},
   "source": [
    "# The aim is to have a dataset with club profiles of the teams from PL 19/20\n",
    "\n",
    "##### The variables will be;\n",
    "Club name, Ground, Capacity, Owner, Manager, position at the end of the season"
   ]
  },
  {
   "cell_type": "code",
   "execution_count": 1,
   "metadata": {},
   "outputs": [],
   "source": [
    "##Import the necessary modules\n",
    "import urllib.request\n",
    "from bs4 import BeautifulSoup as bs"
   ]
  },
  {
   "cell_type": "markdown",
   "metadata": {},
   "source": [
    "#### For debugging purposes, I'll first do this exercise for one team, say, Arsenal"
   ]
  },
  {
   "cell_type": "code",
   "execution_count": 2,
   "metadata": {},
   "outputs": [],
   "source": [
    "# Load Arsenal's Wikipedia page\n",
    "response = urllib.request.urlopen('https://en.wikipedia.org/wiki/Arsenal_F.C.')\n",
    "\n",
    "#read the html of the page\n",
    "html = response.read()\n",
    "\n",
    "# Convert into a Beautiful Soup object\n",
    "soup = bs(html)\n",
    "\n",
    "## The infobox on the Wikipedia page seems to contain most of the information I need, so I'll scrape the info box\n",
    "\n",
    "info_box = soup.find(class_ = 'infobox vcard')\n",
    "\n"
   ]
  },
  {
   "cell_type": "code",
   "execution_count": 3,
   "metadata": {},
   "outputs": [],
   "source": [
    "# Separate the html into table rows (with the 'tr' tag)\n",
    "rows = info_box.find_all('tr')"
   ]
  },
  {
   "cell_type": "code",
   "execution_count": 4,
   "metadata": {},
   "outputs": [
    {
     "name": "stdout",
     "output_type": "stream",
     "text": [
      "{'Full name': 'Arsenal Football Club', 'Nickname(s)': 'The Gunners', 'Founded': 'October 1886; 134 years ago (1886-10) as Dial Square[1]', 'Ground': 'Emirates Stadium', 'Capacity': '60,704[2]', 'Owner': 'Kroenke Sports & Entertainment', 'Manager': 'Mikel Arteta', 'League': 'Premier League', '2019–20': 'Premier League, 8th of 20', 'Website': 'Club website'}\n"
     ]
    }
   ],
   "source": [
    "# The information I need starts from the second to the 9th row of the info box, so;\n",
    "\n",
    "club_info = {}\n",
    "\n",
    "for index,row in enumerate(rows):\n",
    "    if index in range(1,len(rows)-5):\n",
    "        attribute = row.find('th').get_text()\n",
    "        value = row.find('td').get_text().replace('\\xa0',' ')\n",
    "        club_info[attribute] = value\n",
    "    else:\n",
    "        continue\n",
    "    \n",
    "print(club_info)"
   ]
  },
  {
   "cell_type": "markdown",
   "metadata": {},
   "source": [
    "## Now i can loop this over all the other clubs"
   ]
  },
  {
   "cell_type": "code",
   "execution_count": 5,
   "metadata": {},
   "outputs": [],
   "source": [
    "#load the 19/20 season Wikipedia page\n",
    "responses = urllib.request.urlopen('https://en.wikipedia.org/wiki/2019%E2%80%9320_Premier_League')\n",
    "html1 = responses.read()\n",
    "soup1 = bs(html1)"
   ]
  },
  {
   "cell_type": "code",
   "execution_count": 6,
   "metadata": {},
   "outputs": [],
   "source": [
    "# I grab the second table on the page since contains links to all 20 clubs\n",
    "links_table = soup1.find(class_ = 'wikitable sortable')\n",
    "\n",
    "# Grab each link and append into a list\n",
    "links = []\n",
    "names = []\n",
    "for row in links_table.find_all('tr')[1:]:\n",
    "    link = row.find_all('td')[0].a['href']\n",
    "    name = row.find_all('td')[0].a['title']\n",
    "    links.append(link)\n",
    "    names.append(name)"
   ]
  },
  {
   "cell_type": "code",
   "execution_count": 7,
   "metadata": {},
   "outputs": [
    {
     "name": "stdout",
     "output_type": "stream",
     "text": [
      "/wiki/Arsenal_F.C.\n"
     ]
    }
   ],
   "source": [
    "links = []\n",
    "for row in links_table.find_all('tr')[1:]:\n",
    "    link = row.find_all('td')[0].a['href']\n",
    "    name = row.find_all('td')[0].a['title']\n",
    "    links.append(link)\n",
    "    names.append(name)\n",
    "print(links[0]) # note how the link is incomplete...later I should the root 'http...'"
   ]
  },
  {
   "cell_type": "code",
   "execution_count": 8,
   "metadata": {},
   "outputs": [],
   "source": [
    "# Get club information \n",
    "def club(url):\n",
    "    \n",
    "    res = urllib.request.urlopen(url)\n",
    "    html = res.read()\n",
    "    soup = bs(html)\n",
    "    info_box = soup.find(class_ = 'infobox vcard')\n",
    "    rows = info_box.find_all('tr')\n",
    "    \n",
    "    club_info = {}\n",
    "    for index, row in enumerate(rows):\n",
    "        if index in range(1,len(rows)-5):\n",
    "            attribute = row.find('th').get_text()\n",
    "            value = row.find('td').get_text().replace('\\xa0',' ')\n",
    "            club_info[attribute] = value\n",
    "        else:\n",
    "            continue\n",
    "            \n",
    "    return club_info"
   ]
  },
  {
   "cell_type": "code",
   "execution_count": 9,
   "metadata": {},
   "outputs": [
    {
     "name": "stdout",
     "output_type": "stream",
     "text": [
      "[{'Full name': 'Arsenal Football Club', 'Nickname(s)': 'The Gunners', 'Founded': 'October 1886; 134 years ago (1886-10) as Dial Square[1]', 'Ground': 'Emirates Stadium', 'Capacity': '60,704[2]', 'Owner': 'Kroenke Sports & Entertainment', 'Manager': 'Mikel Arteta', 'League': 'Premier League', '2019–20': 'Premier League, 8th of 20', 'Website': 'Club website'}, {'Full name': 'Aston Villa Football Club', 'Nickname(s)': 'The VillaThe LionsThe Claret & Blue Army', 'Short name': 'Villa, AVFC', 'Founded': '21 November 1874; 145 years ago (1874-11-21)[1]', 'Ground': 'Villa Park', 'Capacity': '42,749[2]', 'Owner(s)': 'Nassef SawirisWes Edens', 'Chairman': 'Nassef Sawiris[3]', 'Head Coach': 'Dean Smith[4]', 'League': 'Premier League', '2019–20': 'Premier League, 17th of 20', 'Website': 'Club website'}, {'Full name': 'AFC Bournemouth[1]', 'Nickname(s)': 'The Cherries, Boscombe', 'Short name': 'AFCB', 'Founded': '1899; 121 years ago (1899) (as Boscombe)', 'Ground': 'Dean Court', 'Capacity': '11,364[2]', 'Owner': 'Maxim Demin', 'Chairman': 'Jeff Mostyn', 'Manager': 'Jason Tindall', 'League': 'Championship', '2019–20': 'Premier League, 18th of 20 (relegated)', 'Website': 'Club website'}, {'Full name': 'Brighton & Hove Albion Football Club', 'Nickname(s)': 'The Seagulls, Albion', 'Short name': 'Brighton', 'Founded': '24 June 1901; 119 years ago (1901-06-24)', 'Ground': 'Falmer Stadium', 'Capacity': '30,750[1]', 'Chairman': 'Tony Bloom', 'Head coach': 'Graham Potter', 'League': 'Premier League', '2019–20': 'Premier League, 15th of 20', 'Website': 'Club website'}, {'Full name': 'Burnley Football Club', 'Nickname(s)': 'The Clarets', 'Founded': '18 May 1882; 138 years ago (1882-05-18)', 'Ground': 'Turf Moor', 'Capacity': '21,944', 'Chairman': 'Mike Garlick', 'Manager': 'Sean Dyche', 'League': 'Premier League', '2019–20': 'Premier League, 10th of 20', 'Website': 'Club website'}, {'Full name': 'Chelsea Football Club', 'Nickname(s)': 'The Blues, The Pensioners[1]', 'Short name': 'CFC, CHE', 'Founded': '10 March 1905; 115 years ago (1905-03-10)[2]', 'Ground': 'Stamford Bridge', 'Capacity': '40,834[3]', 'Coordinates': '51°28′54″N 0°11′28″W\\ufeff / \\ufeff51.48167°N 0.19111°W\\ufeff / 51.48167; -0.19111Coordinates: 51°28′54″N 0°11′28″W\\ufeff / \\ufeff51.48167°N 0.19111°W\\ufeff / 51.48167; -0.19111', 'Owner': 'Roman Abramovich', 'Chairman': 'Bruce Buck', 'Head coach': 'Frank Lampard', 'League': 'Premier League', '2019–20': 'Premier League, 4th of 20', 'Website': 'Club website'}, {'Full name': 'Crystal Palace Football Club', 'Nickname(s)': 'The Eagles, The Glaziers', 'Short name': 'CPFC', 'Founded': '10 September 1905; 115 years ago (1905-09-10)[A]', 'Ground': 'Selhurst Park', 'Capacity': '25,486[2]', 'Owners': 'Steve ParishJoshua HarrisDavid S. Blitzer[3]', 'Chairman': 'Steve Parish', 'Manager': 'Roy Hodgson[4]', 'League': 'Premier League', '2019–20': 'Premier League, 14th of 20', 'Website': 'Club website'}, {'Full name': 'Everton Football Club', 'Nickname(s)': 'The BluesThe Toffees', 'Founded': '1878; 142 years ago (1878)', 'Ground': 'Goodison Park', 'Capacity': '39,414[1]', 'Owner': 'Farhad Moshiri', 'Chairman': 'Bill Kenwright', 'Manager': 'Carlo Ancelotti', 'League': 'Premier League', '2019–20': 'Premier League, 12th of 20', 'Website': 'Club website'}, {'Full name': 'Leicester City Football Club', 'Nickname(s)': 'The Foxes', 'Founded': '1884; 136 years ago (1884)(as Leicester Fosse FC)', 'Ground': 'King Power Stadium', 'Capacity': '32,261[1]', 'Owner': 'King Power', 'Chairman': 'Aiyawatt Srivaddhanaprabha', 'Manager': 'Brendan Rodgers', 'League': 'Premier League', '2019–20': 'Premier League, 5th of 20', 'Website': 'Club website'}, {'Full name': 'Liverpool Football Club', 'Nickname(s)': 'The Reds', 'Founded': '3 June 1892; 128 years ago (1892-06-03)[1]', 'Ground': 'Anfield', 'Capacity': '53,394[2]', 'Owner': 'Fenway Sports Group', 'Chairman': 'Tom Werner', 'Manager': 'Jürgen Klopp', 'League': 'Premier League', '2019–20': 'Premier League, 1st of 20 (champions)', 'Website': 'Club website'}, {'Full name': 'Manchester City Football Club', 'Nickname(s)': 'City, Cityzens,[1] Man City, The Citizens, The Sky Blues', 'Short name': 'MCFC', 'Founded': \"1880; 140 years ago (1880) as St. Mark's (West Gorton)16 April 1894; 126 years ago (1894-04-16) as Manchester City[2]\", 'Ground': 'City of Manchester Stadium', 'Capacity': '55,017[3]', 'Owner': 'City Football Group', 'Chairman': 'Khaldoon Al Mubarak', 'Manager': 'Pep Guardiola', 'League': 'Premier League', '2019–20': 'Premier League, 2nd of 20', 'Website': 'Club website'}, {'Full name': 'Manchester United Football Club', 'Nickname(s)': 'The Red Devils[1]', 'Short name': 'Man United/UtdUnited[2][3]', 'Founded': '1878; 142 years ago (1878), as Newton Heath LYR F.C.1902; 118 years ago (1902), as Manchester United F.C.', 'Ground': 'Old Trafford', 'Capacity': '74,140[4]', 'Owner': 'Manchester United plc (NYSE: MANU)', 'Co-chairmen': 'Joel and Avram Glazer', 'Manager': 'Ole Gunnar Solskjær', 'League': 'Premier League', '2019–20': 'Premier League, 3rd of 20', 'Website': 'Club website'}, {'Full name': 'Newcastle United Football Club', 'Nickname(s)': 'The Magpies', 'Founded': '9 December 1892; 127 years ago (1892-12-09)', 'Ground': \"St James' Park\", 'Capacity': '52,305[1]', 'Owner': 'Mike Ashley', 'Managing Director': 'Lee Charnley', 'Manager': 'Steve Bruce', 'League': 'Premier League', '2019–20': 'Premier League, 13th of 20', 'Website': 'Club website'}, {'Full name': 'Norwich City Football Club', 'Nickname(s)': 'The CanariesYellows', 'Founded': '17 June 1902; 118 years ago (1902-06-17)', 'Ground': 'Carrow Road', 'Capacity': '27,359[1]', 'Owner': 'Delia Smith  Michael Wynn-Jones', 'Head coach': 'Daniel Farke', 'League': 'Championship', '2019–20': 'Premier League, 20th of 20 (relegated)', 'Website': 'Club website'}, {'Full name': 'Sheffield United Football Club', 'Nickname(s)': 'The Blades', 'Short name': 'SUFC', 'Founded': '22 March 1889; 131 years ago (1889-03-22)', 'Ground': 'Bramall Lane', 'Capacity': '32,050[1]', 'Owner': \"Abdullah bin Musa'ad bin Abdulaziz Al Saud\", 'Chairman': 'Musa’ad bin Khalid Al Saud', 'Manager': 'Chris Wilder', 'League': 'Premier League', '2019–20': 'Premier League, 9th of 20', 'Website': 'Club website'}, {'Full name': 'Southampton Football Club', 'Nickname(s)': 'The Saints', 'Founded': \"21 November 1885; 134 years ago (1885-11-21) as St. Mary's Y.M.A.\", 'Ground': \"St Mary's Stadium\", 'Capacity': '32,384[1]', 'Owner': 'Lander Sports Investment', 'Chairman': 'Gao Jisheng', 'Manager': 'Ralph Hasenhüttl', 'League': 'Premier League', '2019–20': 'Premier League, 11th of 20', 'Website': 'Club website'}, {'Full name': 'Tottenham Hotspur Football Club', 'Nickname(s)': 'The Lilywhites', 'Short name': 'Spurs', 'Founded': '5 September 1882; 138 years ago (1882-09-05), as Hotspur F.C.', 'Ground': 'Tottenham Hotspur Stadium', 'Capacity': '62,303[1]', 'Owner': 'ENIC International Ltd. (85.55%)', 'Chairman': 'Daniel Levy', 'Head coach': 'José Mourinho', 'League': 'Premier League', '2019–20': 'Premier League, 6th of 20', 'Website': 'Club website'}, {'Full name': 'Watford Football Club', 'Nickname(s)': 'The Hornets, The Golden Boys, Yellow Army', 'Founded': '1881; 139 years ago (1881) (as Watford Rovers)1898; 122 years ago (1898) (amalgamation of West Herts and Watford St. Mary’s)', 'Ground': 'Vicarage Road', 'Capacity': '22,200[1]', 'Owner': 'Gino Pozzo', 'Chairman': 'Scott Duxbury[2]', 'Manager': 'Vladimir Ivić', 'League': 'Championship', '2019–20': 'Premier League, 19th of 20 (relegated)', 'Website': 'Club website'}, {'Full name': 'West Ham United Football Club', 'Nickname(s)': 'The IronsThe HammersThe Academy of Football', 'Short name': 'West Ham', 'Founded': '29 June 1895; 125 years ago (1895-06-29), as Thames Ironworks5 July 1900; 120 years ago (1900-07-05), as West Ham United', 'Ground': 'London Stadium', 'Capacity': '60,000[1]', 'Owner(s)': \"David Sullivan (51.1%) David Gold (35.1%)Albert 'Tripp' Smith (10%)[2]Other investors (3.8%)[3]\", 'Co-chairmen': 'David Sullivan and David Gold', 'Manager': 'David Moyes', 'League': 'Premier League', '2019–20': 'Premier League, 16th of 20', 'Website': 'Club website'}, {'Full name': 'Wolverhampton Wanderers Football Club', 'Nickname(s)': 'Wolves, The Wanderers', 'Founded': \"1877; 143 years ago (1877), as St. Luke's F.C.\", 'Ground': 'Molineux Stadium', 'Capacity': '32,050[1]', 'Owner': 'Fosun International', 'Chairman': 'Jeff Shi[2]', 'Head coach': 'Nuno Espírito Santo[3]', 'League': 'Premier League', '2019–20': 'Premier League, 7th of 20', 'Website': 'Club website'}]\n"
     ]
    }
   ],
   "source": [
    "club_list = []\n",
    "base_path = 'https://en.wikipedia.org'\n",
    "for i in range(0,20):\n",
    "    relative_path = links[i]\n",
    "    full_path = base_path + relative_path\n",
    "    club_list.append(club(full_path))\n",
    "print(club_list)"
   ]
  },
  {
   "cell_type": "code",
   "execution_count": 12,
   "metadata": {},
   "outputs": [
    {
     "data": {
      "text/plain": [
       "{'Full name': 'Wolverhampton Wanderers Football Club',\n",
       " 'Nickname(s)': 'Wolves, The Wanderers',\n",
       " 'Founded': \"1877; 143 years ago (1877), as St. Luke's F.C.\",\n",
       " 'Ground': 'Molineux Stadium',\n",
       " 'Capacity': '32,050[1]',\n",
       " 'Owner': 'Fosun International',\n",
       " 'Chairman': 'Jeff Shi[2]',\n",
       " 'Head coach': 'Nuno Espírito Santo[3]',\n",
       " 'League': 'Premier League',\n",
       " '2019–20': 'Premier League, 7th of 20',\n",
       " 'Website': 'Club website'}"
      ]
     },
     "execution_count": 12,
     "metadata": {},
     "output_type": "execute_result"
    }
   ],
   "source": [
    "club_list[19]"
   ]
  },
  {
   "cell_type": "code",
   "execution_count": 11,
   "metadata": {},
   "outputs": [],
   "source": [
    "# Save as a json file\n",
    "\n",
    "import json\n",
    "\n",
    "def save(title, data):\n",
    "    with open(title, 'w', encoding='utf-8') as f:\n",
    "        json.dump(data,f,ensure_ascii=False, indent=2)\n",
    "\n",
    "def load(title):\n",
    "    with open(title, encoding='utf-8') as f:\n",
    "        return json.load(f)\n",
    "    \n",
    "save('Club_profile.json', club_list)"
   ]
  },
  {
   "cell_type": "code",
   "execution_count": null,
   "metadata": {},
   "outputs": [],
   "source": []
  }
 ],
 "metadata": {
  "kernelspec": {
   "display_name": "Python 3",
   "language": "python",
   "name": "python3"
  },
  "language_info": {
   "codemirror_mode": {
    "name": "ipython",
    "version": 3
   },
   "file_extension": ".py",
   "mimetype": "text/x-python",
   "name": "python",
   "nbconvert_exporter": "python",
   "pygments_lexer": "ipython3",
   "version": "3.7.4"
  }
 },
 "nbformat": 4,
 "nbformat_minor": 2
}
