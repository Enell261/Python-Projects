{
 "cells": [
  {
   "cell_type": "code",
   "execution_count": 1,
   "metadata": {},
   "outputs": [],
   "source": [
    "import pandas as pd\n",
    "import numpy as np\n",
    "import seaborn as sns\n",
    "import matplotlib.pyplot as plt\n",
    "from scipy import stats\n",
    "%matplotlib inline"
   ]
  },
  {
   "cell_type": "code",
   "execution_count": 2,
   "metadata": {},
   "outputs": [],
   "source": [
    "train = pd.read_csv('train.csv')"
   ]
  },
  {
   "cell_type": "code",
   "execution_count": 3,
   "metadata": {},
   "outputs": [],
   "source": [
    "test = pd.read_csv('test.csv')"
   ]
  },
  {
   "cell_type": "code",
   "execution_count": 4,
   "metadata": {},
   "outputs": [
    {
     "data": {
      "text/plain": [
       "(891, 12)"
      ]
     },
     "execution_count": 4,
     "metadata": {},
     "output_type": "execute_result"
    }
   ],
   "source": [
    "train.shape"
   ]
  },
  {
   "cell_type": "code",
   "execution_count": 5,
   "metadata": {},
   "outputs": [
    {
     "data": {
      "text/html": [
       "<div>\n",
       "<style scoped>\n",
       "    .dataframe tbody tr th:only-of-type {\n",
       "        vertical-align: middle;\n",
       "    }\n",
       "\n",
       "    .dataframe tbody tr th {\n",
       "        vertical-align: top;\n",
       "    }\n",
       "\n",
       "    .dataframe thead th {\n",
       "        text-align: right;\n",
       "    }\n",
       "</style>\n",
       "<table border=\"1\" class=\"dataframe\">\n",
       "  <thead>\n",
       "    <tr style=\"text-align: right;\">\n",
       "      <th></th>\n",
       "      <th>PassengerId</th>\n",
       "      <th>Survived</th>\n",
       "      <th>Pclass</th>\n",
       "      <th>Name</th>\n",
       "      <th>Sex</th>\n",
       "      <th>Age</th>\n",
       "      <th>SibSp</th>\n",
       "      <th>Parch</th>\n",
       "      <th>Ticket</th>\n",
       "      <th>Fare</th>\n",
       "      <th>Cabin</th>\n",
       "      <th>Embarked</th>\n",
       "    </tr>\n",
       "  </thead>\n",
       "  <tbody>\n",
       "    <tr>\n",
       "      <td>0</td>\n",
       "      <td>1</td>\n",
       "      <td>0</td>\n",
       "      <td>3</td>\n",
       "      <td>Braund, Mr. Owen Harris</td>\n",
       "      <td>male</td>\n",
       "      <td>22.0</td>\n",
       "      <td>1</td>\n",
       "      <td>0</td>\n",
       "      <td>A/5 21171</td>\n",
       "      <td>7.2500</td>\n",
       "      <td>NaN</td>\n",
       "      <td>S</td>\n",
       "    </tr>\n",
       "    <tr>\n",
       "      <td>1</td>\n",
       "      <td>2</td>\n",
       "      <td>1</td>\n",
       "      <td>1</td>\n",
       "      <td>Cumings, Mrs. John Bradley (Florence Briggs Th...</td>\n",
       "      <td>female</td>\n",
       "      <td>38.0</td>\n",
       "      <td>1</td>\n",
       "      <td>0</td>\n",
       "      <td>PC 17599</td>\n",
       "      <td>71.2833</td>\n",
       "      <td>C85</td>\n",
       "      <td>C</td>\n",
       "    </tr>\n",
       "    <tr>\n",
       "      <td>2</td>\n",
       "      <td>3</td>\n",
       "      <td>1</td>\n",
       "      <td>3</td>\n",
       "      <td>Heikkinen, Miss. Laina</td>\n",
       "      <td>female</td>\n",
       "      <td>26.0</td>\n",
       "      <td>0</td>\n",
       "      <td>0</td>\n",
       "      <td>STON/O2. 3101282</td>\n",
       "      <td>7.9250</td>\n",
       "      <td>NaN</td>\n",
       "      <td>S</td>\n",
       "    </tr>\n",
       "    <tr>\n",
       "      <td>3</td>\n",
       "      <td>4</td>\n",
       "      <td>1</td>\n",
       "      <td>1</td>\n",
       "      <td>Futrelle, Mrs. Jacques Heath (Lily May Peel)</td>\n",
       "      <td>female</td>\n",
       "      <td>35.0</td>\n",
       "      <td>1</td>\n",
       "      <td>0</td>\n",
       "      <td>113803</td>\n",
       "      <td>53.1000</td>\n",
       "      <td>C123</td>\n",
       "      <td>S</td>\n",
       "    </tr>\n",
       "    <tr>\n",
       "      <td>4</td>\n",
       "      <td>5</td>\n",
       "      <td>0</td>\n",
       "      <td>3</td>\n",
       "      <td>Allen, Mr. William Henry</td>\n",
       "      <td>male</td>\n",
       "      <td>35.0</td>\n",
       "      <td>0</td>\n",
       "      <td>0</td>\n",
       "      <td>373450</td>\n",
       "      <td>8.0500</td>\n",
       "      <td>NaN</td>\n",
       "      <td>S</td>\n",
       "    </tr>\n",
       "  </tbody>\n",
       "</table>\n",
       "</div>"
      ],
      "text/plain": [
       "   PassengerId  Survived  Pclass  \\\n",
       "0            1         0       3   \n",
       "1            2         1       1   \n",
       "2            3         1       3   \n",
       "3            4         1       1   \n",
       "4            5         0       3   \n",
       "\n",
       "                                                Name     Sex   Age  SibSp  \\\n",
       "0                            Braund, Mr. Owen Harris    male  22.0      1   \n",
       "1  Cumings, Mrs. John Bradley (Florence Briggs Th...  female  38.0      1   \n",
       "2                             Heikkinen, Miss. Laina  female  26.0      0   \n",
       "3       Futrelle, Mrs. Jacques Heath (Lily May Peel)  female  35.0      1   \n",
       "4                           Allen, Mr. William Henry    male  35.0      0   \n",
       "\n",
       "   Parch            Ticket     Fare Cabin Embarked  \n",
       "0      0         A/5 21171   7.2500   NaN        S  \n",
       "1      0          PC 17599  71.2833   C85        C  \n",
       "2      0  STON/O2. 3101282   7.9250   NaN        S  \n",
       "3      0            113803  53.1000  C123        S  \n",
       "4      0            373450   8.0500   NaN        S  "
      ]
     },
     "execution_count": 5,
     "metadata": {},
     "output_type": "execute_result"
    }
   ],
   "source": [
    "train.head()"
   ]
  },
  {
   "cell_type": "code",
   "execution_count": 6,
   "metadata": {},
   "outputs": [
    {
     "name": "stdout",
     "output_type": "stream",
     "text": [
      "<class 'pandas.core.frame.DataFrame'>\n",
      "RangeIndex: 891 entries, 0 to 890\n",
      "Data columns (total 12 columns):\n",
      "PassengerId    891 non-null int64\n",
      "Survived       891 non-null int64\n",
      "Pclass         891 non-null int64\n",
      "Name           891 non-null object\n",
      "Sex            891 non-null object\n",
      "Age            714 non-null float64\n",
      "SibSp          891 non-null int64\n",
      "Parch          891 non-null int64\n",
      "Ticket         891 non-null object\n",
      "Fare           891 non-null float64\n",
      "Cabin          204 non-null object\n",
      "Embarked       889 non-null object\n",
      "dtypes: float64(2), int64(5), object(5)\n",
      "memory usage: 83.7+ KB\n"
     ]
    }
   ],
   "source": [
    "train.info()"
   ]
  },
  {
   "cell_type": "code",
   "execution_count": 7,
   "metadata": {},
   "outputs": [],
   "source": [
    "def chi_test(feature):\n",
    "    crosstab = pd.crosstab(train[\"Survived\"],train[feature])\n",
    "    test= stats.chi2_contingency(crosstab)\n",
    "    return test"
   ]
  },
  {
   "cell_type": "code",
   "execution_count": 12,
   "metadata": {},
   "outputs": [
    {
     "data": {
      "text/plain": [
       "(425.8083805791106,\n",
       " 1.1647635739939964e-11,\n",
       " 247,\n",
       " array([[ 9.24242424,  0.61616162,  0.61616162,  0.61616162,  0.61616162,\n",
       "          0.61616162,  1.23232323,  1.23232323,  0.61616162,  0.61616162,\n",
       "          1.23232323,  0.61616162,  4.31313131,  1.23232323,  2.46464646,\n",
       "          0.61616162,  7.39393939,  9.24242424,  8.01010101,  0.61616162,\n",
       "          1.84848485,  0.61616162,  2.46464646,  0.61616162,  2.46464646,\n",
       "          0.61616162,  0.61616162,  2.46464646,  1.23232323,  0.61616162,\n",
       "         20.94949495,  9.85858586,  0.61616162,  3.6969697 ,  0.61616162,\n",
       "          1.23232323,  8.01010101,  0.61616162,  2.46464646,  0.61616162,\n",
       "         23.41414141, 11.09090909,  0.61616162, 26.49494949,  0.61616162,\n",
       "          0.61616162,  0.61616162,  0.61616162,  0.61616162,  0.61616162,\n",
       "          0.61616162,  0.61616162,  0.61616162,  0.61616162,  8.01010101,\n",
       "          0.61616162,  0.61616162,  0.61616162,  1.23232323,  0.61616162,\n",
       "          1.23232323,  1.23232323,  0.61616162,  0.61616162,  5.54545455,\n",
       "          1.23232323,  1.23232323,  0.61616162,  0.61616162,  0.61616162,\n",
       "          0.61616162,  1.23232323, 14.78787879,  0.61616162,  1.84848485,\n",
       "          1.23232323,  2.46464646,  0.61616162,  0.61616162,  0.61616162,\n",
       "          1.84848485,  2.46464646,  0.61616162,  0.61616162,  0.61616162,\n",
       "         25.87878788,  0.61616162,  2.46464646,  0.61616162,  0.61616162,\n",
       "          0.61616162,  0.61616162,  0.61616162,  1.23232323,  4.31313131,\n",
       "          1.84848485,  4.31313131,  0.61616162,  0.61616162,  0.61616162,\n",
       "          0.61616162,  3.08080808,  4.92929293,  0.61616162,  1.23232323,\n",
       "          0.61616162,  2.46464646,  1.23232323,  0.61616162,  5.54545455,\n",
       "          1.23232323,  0.61616162,  1.23232323,  1.84848485,  1.84848485,\n",
       "          1.23232323,  2.46464646,  1.23232323,  1.23232323,  1.23232323,\n",
       "          1.23232323,  1.84848485,  1.23232323,  3.6969697 ,  2.46464646,\n",
       "          0.61616162,  0.61616162,  1.23232323,  0.61616162,  2.46464646,\n",
       "          1.23232323,  1.23232323,  1.23232323,  4.92929293,  2.46464646,\n",
       "          0.61616162,  0.61616162,  1.23232323, 19.1010101 ,  3.6969697 ,\n",
       "          0.61616162,  1.84848485,  0.61616162,  9.24242424,  1.23232323,\n",
       "          3.08080808,  2.46464646,  3.6969697 ,  0.61616162,  0.61616162,\n",
       "          1.23232323,  3.08080808,  1.84848485,  3.6969697 ,  1.23232323,\n",
       "          3.08080808,  1.23232323,  1.84848485,  4.31313131,  2.46464646,\n",
       "          0.61616162,  0.61616162,  1.84848485,  0.61616162,  0.61616162,\n",
       "          2.46464646,  0.61616162,  0.61616162,  2.46464646,  1.23232323,\n",
       "          1.23232323,  0.61616162,  2.46464646,  0.61616162,  1.23232323,\n",
       "          3.6969697 ,  0.61616162,  1.84848485,  0.61616162,  3.6969697 ,\n",
       "          0.61616162,  0.61616162,  1.23232323,  0.61616162,  0.61616162,\n",
       "          0.61616162,  1.23232323,  4.31313131,  1.84848485,  3.08080808,\n",
       "          1.23232323,  0.61616162,  1.23232323,  4.31313131,  1.23232323,\n",
       "          1.23232323,  1.23232323,  0.61616162,  0.61616162,  0.61616162,\n",
       "          0.61616162,  0.61616162,  1.23232323,  1.23232323,  1.23232323,\n",
       "          4.31313131,  1.23232323,  0.61616162,  3.08080808,  0.61616162,\n",
       "          0.61616162,  1.84848485,  1.23232323,  1.84848485,  1.23232323,\n",
       "          1.23232323,  2.46464646,  1.84848485,  1.23232323,  0.61616162,\n",
       "          1.23232323,  1.84848485,  1.23232323,  1.84848485,  1.23232323,\n",
       "          2.46464646,  1.23232323,  1.23232323,  1.23232323,  1.23232323,\n",
       "          2.46464646,  1.84848485,  2.46464646,  1.23232323,  1.23232323,\n",
       "          1.84848485,  1.23232323,  2.46464646,  1.84848485,  1.23232323,\n",
       "          1.84848485,  0.61616162,  0.61616162,  2.46464646,  1.23232323,\n",
       "          1.23232323,  2.46464646,  1.84848485],\n",
       "        [ 5.75757576,  0.38383838,  0.38383838,  0.38383838,  0.38383838,\n",
       "          0.38383838,  0.76767677,  0.76767677,  0.38383838,  0.38383838,\n",
       "          0.76767677,  0.38383838,  2.68686869,  0.76767677,  1.53535354,\n",
       "          0.38383838,  4.60606061,  5.75757576,  4.98989899,  0.38383838,\n",
       "          1.15151515,  0.38383838,  1.53535354,  0.38383838,  1.53535354,\n",
       "          0.38383838,  0.38383838,  1.53535354,  0.76767677,  0.38383838,\n",
       "         13.05050505,  6.14141414,  0.38383838,  2.3030303 ,  0.38383838,\n",
       "          0.76767677,  4.98989899,  0.38383838,  1.53535354,  0.38383838,\n",
       "         14.58585859,  6.90909091,  0.38383838, 16.50505051,  0.38383838,\n",
       "          0.38383838,  0.38383838,  0.38383838,  0.38383838,  0.38383838,\n",
       "          0.38383838,  0.38383838,  0.38383838,  0.38383838,  4.98989899,\n",
       "          0.38383838,  0.38383838,  0.38383838,  0.76767677,  0.38383838,\n",
       "          0.76767677,  0.76767677,  0.38383838,  0.38383838,  3.45454545,\n",
       "          0.76767677,  0.76767677,  0.38383838,  0.38383838,  0.38383838,\n",
       "          0.38383838,  0.76767677,  9.21212121,  0.38383838,  1.15151515,\n",
       "          0.76767677,  1.53535354,  0.38383838,  0.38383838,  0.38383838,\n",
       "          1.15151515,  1.53535354,  0.38383838,  0.38383838,  0.38383838,\n",
       "         16.12121212,  0.38383838,  1.53535354,  0.38383838,  0.38383838,\n",
       "          0.38383838,  0.38383838,  0.38383838,  0.76767677,  2.68686869,\n",
       "          1.15151515,  2.68686869,  0.38383838,  0.38383838,  0.38383838,\n",
       "          0.38383838,  1.91919192,  3.07070707,  0.38383838,  0.76767677,\n",
       "          0.38383838,  1.53535354,  0.76767677,  0.38383838,  3.45454545,\n",
       "          0.76767677,  0.38383838,  0.76767677,  1.15151515,  1.15151515,\n",
       "          0.76767677,  1.53535354,  0.76767677,  0.76767677,  0.76767677,\n",
       "          0.76767677,  1.15151515,  0.76767677,  2.3030303 ,  1.53535354,\n",
       "          0.38383838,  0.38383838,  0.76767677,  0.38383838,  1.53535354,\n",
       "          0.76767677,  0.76767677,  0.76767677,  3.07070707,  1.53535354,\n",
       "          0.38383838,  0.38383838,  0.76767677, 11.8989899 ,  2.3030303 ,\n",
       "          0.38383838,  1.15151515,  0.38383838,  5.75757576,  0.76767677,\n",
       "          1.91919192,  1.53535354,  2.3030303 ,  0.38383838,  0.38383838,\n",
       "          0.76767677,  1.91919192,  1.15151515,  2.3030303 ,  0.76767677,\n",
       "          1.91919192,  0.76767677,  1.15151515,  2.68686869,  1.53535354,\n",
       "          0.38383838,  0.38383838,  1.15151515,  0.38383838,  0.38383838,\n",
       "          1.53535354,  0.38383838,  0.38383838,  1.53535354,  0.76767677,\n",
       "          0.76767677,  0.38383838,  1.53535354,  0.38383838,  0.76767677,\n",
       "          2.3030303 ,  0.38383838,  1.15151515,  0.38383838,  2.3030303 ,\n",
       "          0.38383838,  0.38383838,  0.76767677,  0.38383838,  0.38383838,\n",
       "          0.38383838,  0.76767677,  2.68686869,  1.15151515,  1.91919192,\n",
       "          0.76767677,  0.38383838,  0.76767677,  2.68686869,  0.76767677,\n",
       "          0.76767677,  0.76767677,  0.38383838,  0.38383838,  0.38383838,\n",
       "          0.38383838,  0.38383838,  0.76767677,  0.76767677,  0.76767677,\n",
       "          2.68686869,  0.76767677,  0.38383838,  1.91919192,  0.38383838,\n",
       "          0.38383838,  1.15151515,  0.76767677,  1.15151515,  0.76767677,\n",
       "          0.76767677,  1.53535354,  1.15151515,  0.76767677,  0.38383838,\n",
       "          0.76767677,  1.15151515,  0.76767677,  1.15151515,  0.76767677,\n",
       "          1.53535354,  0.76767677,  0.76767677,  0.76767677,  0.76767677,\n",
       "          1.53535354,  1.15151515,  1.53535354,  0.76767677,  0.76767677,\n",
       "          1.15151515,  0.76767677,  1.53535354,  1.15151515,  0.76767677,\n",
       "          1.15151515,  0.38383838,  0.38383838,  1.53535354,  0.76767677,\n",
       "          0.76767677,  1.53535354,  1.15151515]]))"
      ]
     },
     "execution_count": 12,
     "metadata": {},
     "output_type": "execute_result"
    }
   ],
   "source": [
    "chi_test('Fare')"
   ]
  },
  {
   "cell_type": "markdown",
   "metadata": {},
   "source": [
    "p-value is less than 0.05, we can reject H_0 and conclude independence"
   ]
  },
  {
   "cell_type": "markdown",
   "metadata": {},
   "source": [
    "##### There is independence between Survived and the other categorical features"
   ]
  },
  {
   "cell_type": "markdown",
   "metadata": {},
   "source": [
    "## Next we visualise the data in our exploration"
   ]
  },
  {
   "cell_type": "markdown",
   "metadata": {},
   "source": [
    "### create functions for the bar and facet plots to compare variables against Survived"
   ]
  },
  {
   "cell_type": "code",
   "execution_count": 8,
   "metadata": {},
   "outputs": [],
   "source": [
    "def bar(feature):\n",
    "    Survived = train[train['Survived']==1][feature].value_counts()\n",
    "    Didnt = train[train['Survived']==0][feature].value_counts()\n",
    "    df=pd.DataFrame([Survived,Didnt])\n",
    "    df.index = ['Survived','Didnt']\n",
    "    df.plot(kind='bar', stacked=False, figsize=(10,5)) "
   ]
  },
  {
   "cell_type": "code",
   "execution_count": 9,
   "metadata": {},
   "outputs": [],
   "source": [
    "def facet(feature):\n",
    "    facet=sns.FacetGrid(train,hue=\"Survived\",aspect=5)\n",
    "    facet.map(sns.kdeplot,feature,shade=True)\n",
    "    facet.set(xlim=(0,train[feature].max()))\n",
    "    facet.add_legend()\n",
    "    plt.show()\n"
   ]
  },
  {
   "cell_type": "code",
   "execution_count": 10,
   "metadata": {},
   "outputs": [],
   "source": [
    "def cross(feature1,feature2):\n",
    "    p = np.array([train['Pclass']])\n",
    "    s = np.array([train['Sex']])\n",
    "    e = np.array([train['Embarked']])\n",
    "    su = np.array([train['Survived']])\n",
    "    crosstab= pd.crosstab(feature1,feature2, margins=True, normalize='index')\n",
    "    return crosstab"
   ]
  },
  {
   "cell_type": "markdown",
   "metadata": {},
   "source": [
    "### Visualisation of the categorical variables; Pclass, Sex and Embarked\n"
   ]
  },
  {
   "cell_type": "code",
   "execution_count": 11,
   "metadata": {},
   "outputs": [
    {
     "name": "stdout",
     "output_type": "stream",
     "text": [
      "3    491\n",
      "1    216\n",
      "2    184\n",
      "Name: Pclass, dtype: int64\n"
     ]
    },
    {
     "data": {
      "image/png": "[encoded data removed]",
      "text/plain": [
       "<Figure size 720x360 with 1 Axes>"
      ]
     },
     "metadata": {
      "needs_background": "light"
     },
     "output_type": "display_data"
    }
   ],
   "source": [
    "bar('Pclass')\n",
    "print(train.Pclass.value_counts())"
   ]
  },
  {
   "cell_type": "code",
   "execution_count": 84,
   "metadata": {},
   "outputs": [
    {
     "name": "stdout",
     "output_type": "stream",
     "text": [
      "3    491\n",
      "1    216\n",
      "2    184\n",
      "Name: Pclass, dtype: int64\n"
     ]
    }
   ],
   "source": [
    "print(train.Pclass.value_counts())"
   ]
  },
  {
   "cell_type": "code",
   "execution_count": 85,
   "metadata": {},
   "outputs": [
    {
     "data": {
      "text/html": [
       "<div>\n",
       "<style scoped>\n",
       "    .dataframe tbody tr th:only-of-type {\n",
       "        vertical-align: middle;\n",
       "    }\n",
       "\n",
       "    .dataframe tbody tr th {\n",
       "        vertical-align: top;\n",
       "    }\n",
       "\n",
       "    .dataframe thead th {\n",
       "        text-align: right;\n",
       "    }\n",
       "</style>\n",
       "<table border=\"1\" class=\"dataframe\">\n",
       "  <thead>\n",
       "    <tr style=\"text-align: right;\">\n",
       "      <th>Pclass</th>\n",
       "      <th>1</th>\n",
       "      <th>2</th>\n",
       "      <th>3</th>\n",
       "    </tr>\n",
       "    <tr>\n",
       "      <th>Survived</th>\n",
       "      <th></th>\n",
       "      <th></th>\n",
       "      <th></th>\n",
       "    </tr>\n",
       "  </thead>\n",
       "  <tbody>\n",
       "    <tr>\n",
       "      <td>0</td>\n",
       "      <td>0.145719</td>\n",
       "      <td>0.176685</td>\n",
       "      <td>0.677596</td>\n",
       "    </tr>\n",
       "    <tr>\n",
       "      <td>1</td>\n",
       "      <td>0.397661</td>\n",
       "      <td>0.254386</td>\n",
       "      <td>0.347953</td>\n",
       "    </tr>\n",
       "    <tr>\n",
       "      <td>All</td>\n",
       "      <td>0.242424</td>\n",
       "      <td>0.206510</td>\n",
       "      <td>0.551066</td>\n",
       "    </tr>\n",
       "  </tbody>\n",
       "</table>\n",
       "</div>"
      ],
      "text/plain": [
       "Pclass           1         2         3\n",
       "Survived                              \n",
       "0         0.145719  0.176685  0.677596\n",
       "1         0.397661  0.254386  0.347953\n",
       "All       0.242424  0.206510  0.551066"
      ]
     },
     "execution_count": 85,
     "metadata": {},
     "output_type": "execute_result"
    }
   ],
   "source": [
    "pd.crosstab(train['Survived'],train['Pclass'],margins=True,normalize='index')"
   ]
  },
  {
   "cell_type": "markdown",
   "metadata": {},
   "source": [
    "### 40% of the people that survived were in 1st class, whilst it onl had 24% of the passengers"
   ]
  },
  {
   "cell_type": "code",
   "execution_count": 86,
   "metadata": {
    "scrolled": true
   },
   "outputs": [
    {
     "data": {
      "text/html": [
       "<div>\n",
       "<style scoped>\n",
       "    .dataframe tbody tr th:only-of-type {\n",
       "        vertical-align: middle;\n",
       "    }\n",
       "\n",
       "    .dataframe tbody tr th {\n",
       "        vertical-align: top;\n",
       "    }\n",
       "\n",
       "    .dataframe thead th {\n",
       "        text-align: right;\n",
       "    }\n",
       "</style>\n",
       "<table border=\"1\" class=\"dataframe\">\n",
       "  <thead>\n",
       "    <tr style=\"text-align: right;\">\n",
       "      <th>Sex</th>\n",
       "      <th>female</th>\n",
       "      <th>male</th>\n",
       "    </tr>\n",
       "    <tr>\n",
       "      <th>Survived</th>\n",
       "      <th></th>\n",
       "      <th></th>\n",
       "    </tr>\n",
       "  </thead>\n",
       "  <tbody>\n",
       "    <tr>\n",
       "      <td>0</td>\n",
       "      <td>0.147541</td>\n",
       "      <td>0.852459</td>\n",
       "    </tr>\n",
       "    <tr>\n",
       "      <td>1</td>\n",
       "      <td>0.681287</td>\n",
       "      <td>0.318713</td>\n",
       "    </tr>\n",
       "    <tr>\n",
       "      <td>All</td>\n",
       "      <td>0.352413</td>\n",
       "      <td>0.647587</td>\n",
       "    </tr>\n",
       "  </tbody>\n",
       "</table>\n",
       "</div>"
      ],
      "text/plain": [
       "Sex         female      male\n",
       "Survived                    \n",
       "0         0.147541  0.852459\n",
       "1         0.681287  0.318713\n",
       "All       0.352413  0.647587"
      ]
     },
     "execution_count": 86,
     "metadata": {},
     "output_type": "execute_result"
    }
   ],
   "source": [
    "pd.crosstab(train[\"Survived\"],train['Sex'], margins=True, normalize='index')"
   ]
  },
  {
   "cell_type": "code",
   "execution_count": 87,
   "metadata": {},
   "outputs": [
    {
     "data": {
      "image/png": "[encoded data removed]",
      "text/plain": [
       "<Figure size 720x360 with 1 Axes>"
      ]
     },
     "metadata": {
      "needs_background": "light"
     },
     "output_type": "display_data"
    }
   ],
   "source": [
    "bar('Sex')"
   ]
  },
  {
   "cell_type": "markdown",
   "metadata": {},
   "source": [
    "### Females accounted for 35% of the passngers but 68% of the Survivors, indicating that Sex may have contributed to Survival"
   ]
  },
  {
   "cell_type": "code",
   "execution_count": 88,
   "metadata": {},
   "outputs": [
    {
     "data": {
      "text/html": [
       "<div>\n",
       "<style scoped>\n",
       "    .dataframe tbody tr th:only-of-type {\n",
       "        vertical-align: middle;\n",
       "    }\n",
       "\n",
       "    .dataframe tbody tr th {\n",
       "        vertical-align: top;\n",
       "    }\n",
       "\n",
       "    .dataframe thead th {\n",
       "        text-align: right;\n",
       "    }\n",
       "</style>\n",
       "<table border=\"1\" class=\"dataframe\">\n",
       "  <thead>\n",
       "    <tr style=\"text-align: right;\">\n",
       "      <th>Embarked</th>\n",
       "      <th>C</th>\n",
       "      <th>Q</th>\n",
       "      <th>S</th>\n",
       "    </tr>\n",
       "    <tr>\n",
       "      <th>Survived</th>\n",
       "      <th></th>\n",
       "      <th></th>\n",
       "      <th></th>\n",
       "    </tr>\n",
       "  </thead>\n",
       "  <tbody>\n",
       "    <tr>\n",
       "      <td>0</td>\n",
       "      <td>0.136612</td>\n",
       "      <td>0.085610</td>\n",
       "      <td>0.777778</td>\n",
       "    </tr>\n",
       "    <tr>\n",
       "      <td>1</td>\n",
       "      <td>0.273529</td>\n",
       "      <td>0.088235</td>\n",
       "      <td>0.638235</td>\n",
       "    </tr>\n",
       "    <tr>\n",
       "      <td>All</td>\n",
       "      <td>0.188976</td>\n",
       "      <td>0.086614</td>\n",
       "      <td>0.724409</td>\n",
       "    </tr>\n",
       "  </tbody>\n",
       "</table>\n",
       "</div>"
      ],
      "text/plain": [
       "Embarked         C         Q         S\n",
       "Survived                              \n",
       "0         0.136612  0.085610  0.777778\n",
       "1         0.273529  0.088235  0.638235\n",
       "All       0.188976  0.086614  0.724409"
      ]
     },
     "execution_count": 88,
     "metadata": {},
     "output_type": "execute_result"
    }
   ],
   "source": [
    "pd.crosstab(train[\"Survived\"],train['Embarked'], margins=True, normalize='index')"
   ]
  },
  {
   "cell_type": "code",
   "execution_count": 89,
   "metadata": {},
   "outputs": [
    {
     "data": {
      "image/png": "[encoded data removed]",
      "text/plain": [
       "<Figure size 720x360 with 1 Axes>"
      ]
     },
     "metadata": {
      "needs_background": "light"
     },
     "output_type": "display_data"
    }
   ],
   "source": [
    "bar('Embarked')"
   ]
  },
  {
   "cell_type": "markdown",
   "metadata": {},
   "source": [
    "### Cherbourg accounted for 19% of the total passengers but 27% of the survivors. People who boarded at Cherbourg were more likely to survive  "
   ]
  },
  {
   "cell_type": "markdown",
   "metadata": {},
   "source": [
    "## Next we check visualise the numeric data; Age, SibSp, Parch and Fare"
   ]
  },
  {
   "cell_type": "code",
   "execution_count": 90,
   "metadata": {},
   "outputs": [
    {
     "data": {
      "image/png": "[encoded data removed]",
      "text/plain": [
       "<Figure size 1131.88x216 with 1 Axes>"
      ]
     },
     "metadata": {
      "needs_background": "light"
     },
     "output_type": "display_data"
    }
   ],
   "source": [
    "facet(\"Age\")"
   ]
  },
  {
   "cell_type": "markdown",
   "metadata": {},
   "source": [
    "### We may need to break Age down into subgroups to better understand the relation to survival"
   ]
  },
  {
   "cell_type": "code",
   "execution_count": 91,
   "metadata": {},
   "outputs": [
    {
     "data": {
      "image/png": "[encoded data removed]",
      "text/plain": [
       "<Figure size 1131.88x216 with 1 Axes>"
      ]
     },
     "metadata": {
      "needs_background": "light"
     },
     "output_type": "display_data"
    }
   ],
   "source": [
    "facet('SibSp')"
   ]
  },
  {
   "cell_type": "code",
   "execution_count": 92,
   "metadata": {},
   "outputs": [
    {
     "data": {
      "text/html": [
       "<div>\n",
       "<style scoped>\n",
       "    .dataframe tbody tr th:only-of-type {\n",
       "        vertical-align: middle;\n",
       "    }\n",
       "\n",
       "    .dataframe tbody tr th {\n",
       "        vertical-align: top;\n",
       "    }\n",
       "\n",
       "    .dataframe thead th {\n",
       "        text-align: right;\n",
       "    }\n",
       "</style>\n",
       "<table border=\"1\" class=\"dataframe\">\n",
       "  <thead>\n",
       "    <tr style=\"text-align: right;\">\n",
       "      <th>SibSp</th>\n",
       "      <th>0</th>\n",
       "      <th>1</th>\n",
       "      <th>2</th>\n",
       "      <th>3</th>\n",
       "      <th>4</th>\n",
       "      <th>5</th>\n",
       "      <th>8</th>\n",
       "    </tr>\n",
       "    <tr>\n",
       "      <th>Survived</th>\n",
       "      <th></th>\n",
       "      <th></th>\n",
       "      <th></th>\n",
       "      <th></th>\n",
       "      <th></th>\n",
       "      <th></th>\n",
       "      <th></th>\n",
       "    </tr>\n",
       "  </thead>\n",
       "  <tbody>\n",
       "    <tr>\n",
       "      <td>0</td>\n",
       "      <td>0.724954</td>\n",
       "      <td>0.176685</td>\n",
       "      <td>0.027322</td>\n",
       "      <td>0.021858</td>\n",
       "      <td>0.027322</td>\n",
       "      <td>0.009107</td>\n",
       "      <td>0.012750</td>\n",
       "    </tr>\n",
       "    <tr>\n",
       "      <td>1</td>\n",
       "      <td>0.614035</td>\n",
       "      <td>0.327485</td>\n",
       "      <td>0.038012</td>\n",
       "      <td>0.011696</td>\n",
       "      <td>0.008772</td>\n",
       "      <td>0.000000</td>\n",
       "      <td>0.000000</td>\n",
       "    </tr>\n",
       "    <tr>\n",
       "      <td>All</td>\n",
       "      <td>0.682379</td>\n",
       "      <td>0.234568</td>\n",
       "      <td>0.031425</td>\n",
       "      <td>0.017957</td>\n",
       "      <td>0.020202</td>\n",
       "      <td>0.005612</td>\n",
       "      <td>0.007856</td>\n",
       "    </tr>\n",
       "  </tbody>\n",
       "</table>\n",
       "</div>"
      ],
      "text/plain": [
       "SibSp            0         1         2         3         4         5         8\n",
       "Survived                                                                      \n",
       "0         0.724954  0.176685  0.027322  0.021858  0.027322  0.009107  0.012750\n",
       "1         0.614035  0.327485  0.038012  0.011696  0.008772  0.000000  0.000000\n",
       "All       0.682379  0.234568  0.031425  0.017957  0.020202  0.005612  0.007856"
      ]
     },
     "execution_count": 92,
     "metadata": {},
     "output_type": "execute_result"
    }
   ],
   "source": [
    "pd.crosstab(train[\"Survived\"],train['SibSp'], margins=True, normalize='index')"
   ]
  },
  {
   "cell_type": "markdown",
   "metadata": {},
   "source": [
    "### People travelling with one other person were more likely to survive"
   ]
  },
  {
   "cell_type": "code",
   "execution_count": 93,
   "metadata": {},
   "outputs": [
    {
     "data": {
      "image/png": "[encoded data removed]",
      "text/plain": [
       "<Figure size 1131.88x216 with 1 Axes>"
      ]
     },
     "metadata": {
      "needs_background": "light"
     },
     "output_type": "display_data"
    }
   ],
   "source": [
    "facet('Parch')"
   ]
  },
  {
   "cell_type": "code",
   "execution_count": 94,
   "metadata": {},
   "outputs": [],
   "source": [
    "parch=pd.DataFrame([train[\"Parch\"],train['Survived']]) \n"
   ]
  },
  {
   "cell_type": "markdown",
   "metadata": {},
   "source": [
    "### Parch doesnt seem to contribute to survival"
   ]
  },
  {
   "cell_type": "code",
   "execution_count": 95,
   "metadata": {},
   "outputs": [
    {
     "name": "stdout",
     "output_type": "stream",
     "text": [
      "8.05\n"
     ]
    }
   ],
   "source": [
    "import statistics\n",
    "print(statistics.mode(train['Fare']))"
   ]
  },
  {
   "cell_type": "code",
   "execution_count": 96,
   "metadata": {},
   "outputs": [
    {
     "data": {
      "text/plain": [
       "8.0500     43\n",
       "13.0000    42\n",
       "7.8958     38\n",
       "7.7500     34\n",
       "26.0000    31\n",
       "           ..\n",
       "8.4583      1\n",
       "9.8375      1\n",
       "8.3625      1\n",
       "14.1083     1\n",
       "17.4000     1\n",
       "Name: Fare, Length: 248, dtype: int64"
      ]
     },
     "execution_count": 96,
     "metadata": {},
     "output_type": "execute_result"
    }
   ],
   "source": [
    "train['Fare'].value_counts()"
   ]
  },
  {
   "cell_type": "code",
   "execution_count": 97,
   "metadata": {},
   "outputs": [
    {
     "data": {
      "image/png": "[encoded data removed]",
      "text/plain": [
       "<Figure size 1131.88x216 with 1 Axes>"
      ]
     },
     "metadata": {
      "needs_background": "light"
     },
     "output_type": "display_data"
    }
   ],
   "source": [
    "facet('Fare')"
   ]
  },
  {
   "cell_type": "markdown",
   "metadata": {},
   "source": [
    "### A lot of people bought the <10 tickets and that accounts as such they account for most of the deaths"
   ]
  }
 ],
 "metadata": {
  "kernelspec": {
   "display_name": "Python 3",
   "language": "python",
   "name": "python3"
  },
  "language_info": {
   "codemirror_mode": {
    "name": "ipython",
    "version": 3
   },
   "file_extension": ".py",
   "mimetype": "text/x-python",
   "name": "python",
   "nbconvert_exporter": "python",
   "pygments_lexer": "ipython3",
   "version": "3.7.4"
  }
 },
 "nbformat": 4,
 "nbformat_minor": 2
}
